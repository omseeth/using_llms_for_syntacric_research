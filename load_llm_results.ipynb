{
 "cells": [
  {
   "cell_type": "code",
   "execution_count": 1,
   "metadata": {},
   "outputs": [],
   "source": [
    "import pandas as pd"
   ]
  },
  {
   "cell_type": "code",
   "execution_count": null,
   "metadata": {},
   "outputs": [],
   "source": [
    "df = pd.read_csv(\"results/gpt35Turbo_results_iter2_temp0_one.csv\", sep=\",\", engine=\"python\")\n",
    "\n",
    "conditions = [\"a\", \"b\", \"c\", \"d\", \"e\", \"f\", \"g\", \"h\"]\n",
    "\n",
    "for condition in conditions:\n",
    "\n",
    "    results_Q1 = df[(df[\"condition\"] == condition) & (df[\"question_no\"] == \"Q1\")]\n",
    "    results_Q1_pos = df[(df[\"condition\"] == condition) & (df[\"question_no\"] == \"Q1\") & (df[\"gpt-3.5-turbo\"] == \"Ja\")]\n",
    "    \n",
    "    ratio_Q1_pos = len(results_Q1_pos) / len(results_Q1)\n",
    "\n",
    "    results_Q2 = df[(df[\"condition\"] == condition) & (df[\"question_no\"] == \"Q2\")]\n",
    "    results_Q2_pos = df[(df[\"condition\"] == condition) & (df[\"question_no\"] == \"Q2\") & (df[\"gpt-3.5-turbo\"] == \"Ja\")]\n",
    "\n",
    "    ratio_Q2_pos = len(results_Q2_pos) / len(results_Q2)\n",
    "\n",
    "    print(\"Condition: \" + condition + \" Q1: \" + str(ratio_Q1_pos) + \" Q2: \" + str(ratio_Q2_pos))"
   ]
  }
 ],
 "metadata": {
  "kernelspec": {
   "display_name": ".venv",
   "language": "python",
   "name": "python3"
  },
  "language_info": {
   "codemirror_mode": {
    "name": "ipython",
    "version": 3
   },
   "file_extension": ".py",
   "mimetype": "text/x-python",
   "name": "python",
   "nbconvert_exporter": "python",
   "pygments_lexer": "ipython3",
   "version": "3.12.6"
  }
 },
 "nbformat": 4,
 "nbformat_minor": 2
}
