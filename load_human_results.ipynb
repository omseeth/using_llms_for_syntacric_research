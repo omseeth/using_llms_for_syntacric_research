{
 "cells": [
  {
   "cell_type": "code",
   "execution_count": 2,
   "metadata": {},
   "outputs": [],
   "source": [
    "import pandas as pd"
   ]
  },
  {
   "cell_type": "code",
   "execution_count": 5,
   "metadata": {},
   "outputs": [],
   "source": [
    "# preprocessing of original df\n",
    "\n",
    "df_org = pd.read_csv(\"data/exp8_results_items_annotated.csv\", sep=\"\\\\t\", engine=\"python\")\n",
    "df_org = df_org.rename(columns={'\"materials': 'materials', 'question\"': \"question\"})\n",
    "df_org['materials'] = df_org['materials'].str.replace(r'\"', '')\n",
    "df_org['question'] = df_org['question'].str.replace(r'\"', '')\n",
    "df_org.to_csv('data/exp8.csv', index=False)\n"
   ]
  },
  {
   "cell_type": "code",
   "execution_count": null,
   "metadata": {},
   "outputs": [],
   "source": [
    "df = pd.read_csv(\"data/exp8.csv\", sep=\",\")\n",
    "print(df.head)"
   ]
  },
  {
   "cell_type": "code",
   "execution_count": null,
   "metadata": {},
   "outputs": [],
   "source": [
    "print(\"Object phrases\")\n",
    "\n",
    "# row 1 from table 7 of paper\n",
    "df_con1_Q1 = df[(df[\"phrase\"] == \"object\") & (df[\"argadj\"] == \"argument\") & (df[\"mov\"] == \"in situ\") & (df[\"question\"] == 1)]\n",
    "result_con1_Q1 = len(df_con1_Q1[df_con1_Q1[\"value\"] == 1]) / len(df_con1_Q1)\n",
    "print(\"Q:1 \" + str(result_con1_Q1))\n",
    "\n",
    "df_con1_Q2 = df[(df[\"phrase\"] == \"object\") & (df[\"argadj\"] == \"argument\") & (df[\"mov\"] == \"in situ\") & (df[\"question\"] == 2)]\n",
    "result_con1_Q2 = len(df_con1_Q2[df_con1_Q2[\"value\"] == 1]) / len(df_con1_Q2)\n",
    "print(\"Q:2 \" + str(result_con1_Q2))\n",
    "\n",
    "# row 2 from table 7 of paper\n",
    "df_con2_Q1 = df[(df[\"phrase\"] == \"object\") & (df[\"argadj\"] == \"argument\") & (df[\"mov\"] == \"moved\") & (df[\"question\"] == 1)]\n",
    "result_con2_Q1 = len(df_con2_Q1[df_con2_Q1[\"value\"] == 1]) / len(df_con2_Q1)\n",
    "print(\"Q:1 \" + str(result_con2_Q1))\n",
    "\n",
    "df_con2_Q2 = df[(df[\"phrase\"] == \"object\") & (df[\"argadj\"] == \"argument\") & (df[\"mov\"] == \"moved\") & (df[\"question\"] == 2)]\n",
    "result_con2_Q2 = len(df_con2_Q2[df_con2_Q2[\"value\"] == 1]) / len(df_con2_Q2)\n",
    "print(\"Q:2 \" + str(result_con2_Q2))\n",
    "\n",
    "# row 3 from table 7 of paper\n",
    "df_con3_Q1 = df[(df[\"phrase\"] == \"object\") & (df[\"argadj\"] == \"adjunct\") & (df[\"mov\"] == \"in situ\") & (df[\"question\"] == 1)]\n",
    "result_con3_Q1 = len(df_con3_Q1[df_con3_Q1[\"value\"] == 1]) / len(df_con3_Q1)\n",
    "print(\"Q:1 \" + str(result_con3_Q1))\n",
    "\n",
    "df_con3_Q2 = df[(df[\"phrase\"] == \"object\") & (df[\"argadj\"] == \"adjunct\") & (df[\"mov\"] == \"in situ\") & (df[\"question\"] == 2)]\n",
    "result_con3_Q2 = len(df_con3_Q2[df_con3_Q2[\"value\"] == 1]) / len(df_con3_Q2)\n",
    "print(\"Q:2 \" + str(result_con3_Q2))\n",
    "\n",
    "# row 4 from table 7 of paper\n",
    "df_con4_Q1 = df[(df[\"phrase\"] == \"object\") & (df[\"argadj\"] == \"adjunct\") & (df[\"mov\"] == \"moved\") & (df[\"question\"] == 1)]\n",
    "result_con4_Q1 = len(df_con4_Q1[df_con4_Q1[\"value\"] == 1]) / len(df_con4_Q1)\n",
    "print(\"Q:1 \" + str(result_con4_Q1))\n",
    "\n",
    "df_con4_Q2 = df[(df[\"phrase\"] == \"object\") & (df[\"argadj\"] == \"adjunct\") & (df[\"mov\"] == \"moved\") & (df[\"question\"] == 2)]\n",
    "result_con4_Q2 = len(df_con4_Q2[df_con4_Q2[\"value\"] == 1]) / len(df_con4_Q2)\n",
    "print(\"Q:1 \" + str(result_con4_Q2))\n",
    "\n"
   ]
  },
  {
   "cell_type": "code",
   "execution_count": null,
   "metadata": {},
   "outputs": [],
   "source": [
    "print(\"Subject phrases\")\n",
    "\n",
    "# row 5 from table 7 of paper\n",
    "df_con5_Q1 = df[(df[\"phrase\"] == \"subject\") & (df[\"argadj\"] == \"argument\") & (df[\"mov\"] == \"in situ\") & (df[\"question\"] == 1)]\n",
    "result_con5_Q1 = len(df_con5_Q1[df_con5_Q1[\"value\"] == 1]) / len(df_con5_Q1)\n",
    "print(\"Q:1 \" + str(result_con5_Q1))\n",
    "\n",
    "df_con5_Q2 = df[(df[\"phrase\"] == \"subject\") & (df[\"argadj\"] == \"argument\") & (df[\"mov\"] == \"in situ\") & (df[\"question\"] == 2)]\n",
    "result_con5_Q2 = len(df_con5_Q2[df_con5_Q2[\"value\"] == 1]) / len(df_con5_Q2)\n",
    "print(\"Q:2 \" + str(result_con5_Q2))\n",
    "\n",
    "# row 6 from table 7 of paper\n",
    "df_con6_Q1 = df[(df[\"phrase\"] == \"subject\") & (df[\"argadj\"] == \"argument\") & (df[\"mov\"] == \"moved\") & (df[\"question\"] == 1)]\n",
    "result_con6_Q1 = len(df_con6_Q1[df_con6_Q1[\"value\"] == 1]) / len(df_con6_Q1)\n",
    "print(\"Q:1 \" + str(result_con6_Q1))\n",
    "\n",
    "df_con6_Q2 = df[(df[\"phrase\"] == \"subject\") & (df[\"argadj\"] == \"argument\") & (df[\"mov\"] == \"moved\") & (df[\"question\"] == 2)]\n",
    "result_con6_Q2 = len(df_con6_Q2[df_con6_Q2[\"value\"] == 1]) / len(df_con6_Q2)\n",
    "print(\"Q:2 \" + str(result_con6_Q2))\n",
    "\n",
    "# row 7 from table 7 of paper\n",
    "df_con7_Q1 = df[(df[\"phrase\"] == \"subject\") & (df[\"argadj\"] == \"adjunct\") & (df[\"mov\"] == \"in situ\") & (df[\"question\"] == 1)]\n",
    "result_con7_Q1 = len(df_con7_Q1[df_con7_Q1[\"value\"] == 1]) / len(df_con7_Q1)\n",
    "print(\"Q:1 \" + str(result_con7_Q1))\n",
    "\n",
    "df_con7_Q2 = df[(df[\"phrase\"] == \"subject\") & (df[\"argadj\"] == \"adjunct\") & (df[\"mov\"] == \"in situ\") & (df[\"question\"] == 2)]\n",
    "result_con7_Q2 = len(df_con7_Q2[df_con7_Q2[\"value\"] == 1]) / len(df_con7_Q2)\n",
    "print(\"Q:2 \" + str(result_con7_Q2))\n",
    "\n",
    "# row 8 from table 7 of paper\n",
    "df_con8_Q1 = df[(df[\"phrase\"] == \"subject\") & (df[\"argadj\"] == \"adjunct\") & (df[\"mov\"] == \"moved\") & (df[\"question\"] == 1)]\n",
    "result_con8_Q1 = len(df_con8_Q1[df_con8_Q1[\"value\"] == 1]) / len(df_con8_Q1)\n",
    "print(\"Q:1 \" + str(result_con8_Q1))\n",
    "\n",
    "df_con8_Q2 = df[(df[\"phrase\"] == \"subject\") & (df[\"argadj\"] == \"adjunct\") & (df[\"mov\"] == \"moved\") & (df[\"question\"] == 2)]\n",
    "result_con8_Q2 = len(df_con8_Q2[df_con8_Q2[\"value\"] == 1]) / len(df_con8_Q2)\n",
    "print(\"Q:1 \" + str(result_con8_Q2))"
   ]
  },
  {
   "cell_type": "code",
   "execution_count": null,
   "metadata": {},
   "outputs": [],
   "source": [
    "df_item_1 = df[(df[\"item\"] == 1) & (df[\"condition\"] == \"a\")]\n",
    "print(len(df_item_1))\n",
    "print(df_item_1)\n"
   ]
  },
  {
   "cell_type": "code",
   "execution_count": 7,
   "metadata": {},
   "outputs": [],
   "source": [
    "df_chg = pd.read_csv(\"results/gpt35Turbo_results_iter4_temp03_zero.csv\", sep=\",\")\n",
    "df_chg = df_chg.rename(columns={'mov': 'argadj', 'argadj': \"mov\"})\n",
    "df_chg.to_csv('results/gpt35Turbo_results_iter4_temp03_zero.csv', index=False)"
   ]
  }
 ],
 "metadata": {
  "kernelspec": {
   "display_name": ".venv",
   "language": "python",
   "name": "python3"
  },
  "language_info": {
   "codemirror_mode": {
    "name": "ipython",
    "version": 3
   },
   "file_extension": ".py",
   "mimetype": "text/x-python",
   "name": "python",
   "nbconvert_exporter": "python",
   "pygments_lexer": "ipython3",
   "version": "3.12.6"
  }
 },
 "nbformat": 4,
 "nbformat_minor": 2
}
